{
  "nbformat": 4,
  "nbformat_minor": 0,
  "metadata": {
    "colab": {
      "name": "VB - HAR CNN.ipynb",
      "provenance": [],
      "collapsed_sections": [],
      "mount_file_id": "1fD9RD6YvSgezNo1Z2LmIv3ZM9HR-Iiuw",
      "authorship_tag": "ABX9TyPuszgIZPxtmCuYGbyWH6TQ",
      "include_colab_link": true
    },
    "kernelspec": {
      "name": "python3",
      "display_name": "Python 3"
    },
    "language_info": {
      "name": "python"
    },
    "accelerator": "TPU"
  },
  "cells": [
    {
      "cell_type": "markdown",
      "metadata": {
        "id": "view-in-github",
        "colab_type": "text"
      },
      "source": [
        "<a href=\"https://colab.research.google.com/github/Monalika-P/Vision-based-Human-Activity-Recognitio/blob/main/VB_HAR_CNN.ipynb\" target=\"_parent\"><img src=\"https://colab.research.google.com/assets/colab-badge.svg\" alt=\"Open In Colab\"/></a>"
      ]
    },
    {
      "cell_type": "code",
      "metadata": {
        "colab": {
          "base_uri": "https://localhost:8080/"
        },
        "id": "RiKMI0BMa9o7",
        "outputId": "85ab4814-8f5d-4cb7-f5c2-7f73776c6f6c"
      },
      "source": [
        "!wget -nc --no-check-certificate https://www.crcv.ucf.edu/data/UCF50.rar\n",
        "!unrar x UCF50.rar -inul -y"
      ],
      "execution_count": null,
      "outputs": [
        {
          "output_type": "stream",
          "text": [
            "--2021-06-28 02:26:47--  https://www.crcv.ucf.edu/data/UCF50.rar\n",
            "Resolving www.crcv.ucf.edu (www.crcv.ucf.edu)... 132.170.214.127\n",
            "Connecting to www.crcv.ucf.edu (www.crcv.ucf.edu)|132.170.214.127|:443... connected.\n",
            "WARNING: cannot verify www.crcv.ucf.edu's certificate, issued by ‘CN=InCommon RSA Server CA,OU=InCommon,O=Internet2,L=Ann Arbor,ST=MI,C=US’:\n",
            "  Unable to locally verify the issuer's authority.\n",
            "HTTP request sent, awaiting response... 200 OK\n",
            "Length: 3233554570 (3.0G) [application/rar]\n",
            "Saving to: ‘UCF50.rar’\n",
            "\n",
            "UCF50.rar           100%[===================>]   3.01G  30.8MB/s    in 50s     \n",
            "\n",
            "2021-06-28 02:27:38 (61.7 MB/s) - ‘UCF50.rar’ saved [3233554570/3233554570]\n",
            "\n"
          ],
          "name": "stdout"
        }
      ]
    },
    {
      "cell_type": "code",
      "metadata": {
        "colab": {
          "base_uri": "https://localhost:8080/"
        },
        "id": "45Ob-IR5cEm1",
        "outputId": "21fd6bed-8af7-45d8-e2fe-62cf6fbb9c1f"
      },
      "source": [
        "!pip install pafy\n",
        "!pip install pafy youtube-dl moviepy"
      ],
      "execution_count": null,
      "outputs": [
        {
          "output_type": "stream",
          "text": [
            "Collecting pafy\n",
            "  Downloading https://files.pythonhosted.org/packages/74/69/829919eeadff695338f98fa12bb99e45490761a2010c8d688d88b6df194a/pafy-0.5.5-py2.py3-none-any.whl\n",
            "Installing collected packages: pafy\n",
            "Successfully installed pafy-0.5.5\n",
            "Requirement already satisfied: pafy in /usr/local/lib/python3.7/dist-packages (0.5.5)\n",
            "Collecting youtube-dl\n",
            "\u001b[?25l  Downloading https://files.pythonhosted.org/packages/a4/43/1f586e49e68f8b41c4be416302bf96ddd5040b0e744b5902d51063795eb9/youtube_dl-2021.6.6-py2.py3-none-any.whl (1.9MB)\n",
            "\u001b[K     |████████████████████████████████| 1.9MB 6.9MB/s \n",
            "\u001b[?25hRequirement already satisfied: moviepy in /usr/local/lib/python3.7/dist-packages (0.2.3.5)\n",
            "Requirement already satisfied: numpy in /usr/local/lib/python3.7/dist-packages (from moviepy) (1.19.5)\n",
            "Requirement already satisfied: tqdm<5.0,>=4.11.2 in /usr/local/lib/python3.7/dist-packages (from moviepy) (4.41.1)\n",
            "Requirement already satisfied: decorator<5.0,>=4.0.2 in /usr/local/lib/python3.7/dist-packages (from moviepy) (4.4.2)\n",
            "Requirement already satisfied: imageio<3.0,>=2.1.2 in /usr/local/lib/python3.7/dist-packages (from moviepy) (2.4.1)\n",
            "Requirement already satisfied: pillow in /usr/local/lib/python3.7/dist-packages (from imageio<3.0,>=2.1.2->moviepy) (7.1.2)\n",
            "Installing collected packages: youtube-dl\n",
            "Successfully installed youtube-dl-2021.6.6\n"
          ],
          "name": "stdout"
        }
      ]
    },
    {
      "cell_type": "code",
      "metadata": {
        "colab": {
          "base_uri": "https://localhost:8080/"
        },
        "id": "Z84iNzs3cuuL",
        "outputId": "2fea1599-859a-40cb-d47d-4dea1936e1bf"
      },
      "source": [
        "import os\n",
        "\n",
        "import cv2\n",
        "\n",
        "import math\n",
        "\n",
        "import pafy\n",
        "\n",
        "import random\n",
        "\n",
        "import numpy as np\n",
        "\n",
        "import datetime as dt\n",
        "\n",
        "import tensorflow as tf\n",
        "\n",
        "from moviepy.editor import *\n",
        "from collections import deque\n",
        "\n",
        "import matplotlib.pyplot as plt\n",
        "\n",
        "%matplotlib inline\n",
        "\n",
        "from sklearn.model_selection import train_test_split\n",
        "\n",
        "from tensorflow.keras.layers import *\n",
        "\n",
        "from tensorflow.keras.models import Sequential\n",
        "from tensorflow.keras.utils import to_categorical\n",
        "from tensorflow.keras.callbacks import EarlyStopping\n",
        "from tensorflow.keras.utils import plot_model\n"
      ],
      "execution_count": null,
      "outputs": [
        {
          "output_type": "stream",
          "text": [
            "Imageio: 'ffmpeg-linux64-v3.3.1' was not found on your computer; downloading it now.\n",
            "Try 1. Download from https://github.com/imageio/imageio-binaries/raw/master/ffmpeg/ffmpeg-linux64-v3.3.1 (43.8 MB)\n",
            "Downloading: 8192/45929032 bytes (0.0%)\b\b\b\b\b\b\b\b\b\b\b\b\b\b\b\b\b\b\b\b\b\b\b\b\b\b2236416/45929032 bytes (4.9%)\b\b\b\b\b\b\b\b\b\b\b\b\b\b\b\b\b\b\b\b\b\b\b\b\b\b\b\b\b5283840/45929032 bytes (11.5%)\b\b\b\b\b\b\b\b\b\b\b\b\b\b\b\b\b\b\b\b\b\b\b\b\b\b\b\b\b\b7766016/45929032 bytes (16.9%)\b\b\b\b\b\b\b\b\b\b\b\b\b\b\b\b\b\b\b\b\b\b\b\b\b\b\b\b\b\b10526720/45929032 bytes (22.9%)\b\b\b\b\b\b\b\b\b\b\b\b\b\b\b\b\b\b\b\b\b\b\b\b\b\b\b\b\b\b\b13393920/45929032 bytes (29.2%)\b\b\b\b\b\b\b\b\b\b\b\b\b\b\b\b\b\b\b\b\b\b\b\b\b\b\b\b\b\b\b16252928/45929032 bytes (35.4%)\b\b\b\b\b\b\b\b\b\b\b\b\b\b\b\b\b\b\b\b\b\b\b\b\b\b\b\b\b\b\b19120128/45929032 bytes (41.6%)\b\b\b\b\b\b\b\b\b\b\b\b\b\b\b\b\b\b\b\b\b\b\b\b\b\b\b\b\b\b\b22274048/45929032 bytes (48.5%)\b\b\b\b\b\b\b\b\b\b\b\b\b\b\b\b\b\b\b\b\b\b\b\b\b\b\b\b\b\b\b24215552/45929032 bytes (52.7%)\b\b\b\b\b\b\b\b\b\b\b\b\b\b\b\b\b\b\b\b\b\b\b\b\b\b\b\b\b\b\b25468928/45929032 bytes (55.5%)\b\b\b\b\b\b\b\b\b\b\b\b\b\b\b\b\b\b\b\b\b\b\b\b\b\b\b\b\b\b\b28508160/45929032 bytes (62.1%)\b\b\b\b\b\b\b\b\b\b\b\b\b\b\b\b\b\b\b\b\b\b\b\b\b\b\b\b\b\b\b31645696/45929032 bytes (68.9%)\b\b\b\b\b\b\b\b\b\b\b\b\b\b\b\b\b\b\b\b\b\b\b\b\b\b\b\b\b\b\b34758656/45929032 bytes (75.7%)\b\b\b\b\b\b\b\b\b\b\b\b\b\b\b\b\b\b\b\b\b\b\b\b\b\b\b\b\b\b\b37675008/45929032 bytes (82.0%)\b\b\b\b\b\b\b\b\b\b\b\b\b\b\b\b\b\b\b\b\b\b\b\b\b\b\b\b\b\b\b40550400/45929032 bytes (88.3%)\b\b\b\b\b\b\b\b\b\b\b\b\b\b\b\b\b\b\b\b\b\b\b\b\b\b\b\b\b\b\b43130880/45929032 bytes (93.9%)\b\b\b\b\b\b\b\b\b\b\b\b\b\b\b\b\b\b\b\b\b\b\b\b\b\b\b\b\b\b\b45929032/45929032 bytes (100.0%)\n",
            "  Done\n",
            "File saved as /root/.imageio/ffmpeg/ffmpeg-linux64-v3.3.1.\n"
          ],
          "name": "stdout"
        }
      ]
    },
    {
      "cell_type": "code",
      "metadata": {
        "id": "ZQoZCnMxcyBG"
      },
      "source": [
        "image_height, image_width = 64, 64\n",
        "\n",
        "max_images_per_class = 2000\n",
        "\n",
        "dataset_directory = \"UCF50\"\n",
        "\n",
        "classes_list = ['WalkingWithDog', 'HorseRace','JumpingJack','HulaHoop','YoYo','PizzaTossing']\n",
        "\n",
        "model_output_size = len(classes_list)"
      ],
      "execution_count": 5,
      "outputs": []
    },
    {
      "cell_type": "code",
      "metadata": {
        "id": "OefYDaBAdd2m"
      },
      "source": [
        "def frames_extraction(video_path):\n",
        "\n",
        "    frames_list = []\n",
        "\n",
        "    video_reader = cv2.VideoCapture(video_path)\n",
        "\n",
        "    while True:\n",
        "\n",
        "        success, frame = video_reader.read()\n",
        "\n",
        "        if not success:\n",
        "\n",
        "            break\n",
        "\n",
        "        resized_frame = cv2.resize(frame, (image_height, image_width))\n",
        "\n",
        "        normalized_frame = resized_frame / 255\n",
        "\n",
        "        frames_list.append(normalized_frame)\n",
        "\n",
        "    video_reader.release()\n",
        "\n",
        "    return frames_list"
      ],
      "execution_count": 6,
      "outputs": []
    },
    {
      "cell_type": "code",
      "metadata": {
        "id": "aXUKrJLgdiGp"
      },
      "source": [
        "def create_dataset():\n",
        "\n",
        "    temp_features = []\n",
        "\n",
        "    features = []\n",
        "\n",
        "    labels = []\n",
        "\n",
        "    for class_index, class_name in enumerate(classes_list):\n",
        "\n",
        "        print(f'Extracting Data of Class: {class_name}')\n",
        "\n",
        "        files_list = os.listdir(os.path.join(dataset_directory, class_name))\n",
        "\n",
        "        for file_name in files_list:\n",
        "\n",
        "            video_file_path = os.path.join(dataset_directory, class_name, file_name)\n",
        "\n",
        "            frames = frames_extraction(video_file_path)\n",
        "\n",
        "            temp_features.extend(frames)\n",
        "\n",
        "        features.extend(random.sample(temp_features, max_images_per_class))\n",
        "\n",
        "        labels.extend([class_index] * max_images_per_class)\n",
        "\n",
        "        temp_features.clear()\n",
        "\n",
        "    features = np.asarray(features)\n",
        "\n",
        "    labels = np.array(labels) \n",
        "\n",
        "    return features, labels\n"
      ],
      "execution_count": 7,
      "outputs": []
    },
    {
      "cell_type": "code",
      "metadata": {
        "colab": {
          "base_uri": "https://localhost:8080/"
        },
        "id": "CzWM2amadiDJ",
        "outputId": "566286b6-16f9-449e-f71d-6d4755cc0ec4"
      },
      "source": [
        "features, labels = create_dataset()"
      ],
      "execution_count": 8,
      "outputs": [
        {
          "output_type": "stream",
          "text": [
            "Extracting Data of Class: WalkingWithDog\n",
            "Extracting Data of Class: HorseRace\n",
            "Extracting Data of Class: JumpingJack\n",
            "Extracting Data of Class: HulaHoop\n",
            "Extracting Data of Class: YoYo\n",
            "Extracting Data of Class: PizzaTossing\n"
          ],
          "name": "stdout"
        }
      ]
    },
    {
      "cell_type": "code",
      "metadata": {
        "id": "LLUm8B7AdiBn"
      },
      "source": [
        "import joblib"
      ],
      "execution_count": 9,
      "outputs": []
    },
    {
      "cell_type": "code",
      "metadata": {
        "colab": {
          "base_uri": "https://localhost:8080/"
        },
        "id": "MeyuCR82dh_h",
        "outputId": "2130f76b-5280-4af4-8120-1f23f998d201"
      },
      "source": [
        "joblib.dump(features, '/content/drive/MyDrive/HARModels/new_features.pickle')"
      ],
      "execution_count": 12,
      "outputs": [
        {
          "output_type": "execute_result",
          "data": {
            "text/plain": [
              "['/content/drive/MyDrive/HARModels/new_features.pickle']"
            ]
          },
          "metadata": {
            "tags": []
          },
          "execution_count": 12
        }
      ]
    },
    {
      "cell_type": "code",
      "metadata": {
        "colab": {
          "base_uri": "https://localhost:8080/"
        },
        "id": "66Uqu5gxdh95",
        "outputId": "b267e511-d92d-4433-8c8b-03d20b83ff9a"
      },
      "source": [
        "joblib.dump(labels, '/content/drive/MyDrive/HARModels/new_labels.pickle')"
      ],
      "execution_count": 13,
      "outputs": [
        {
          "output_type": "execute_result",
          "data": {
            "text/plain": [
              "['/content/drive/MyDrive/HARModels/new_labels.pickle']"
            ]
          },
          "metadata": {
            "tags": []
          },
          "execution_count": 13
        }
      ]
    },
    {
      "cell_type": "code",
      "metadata": {
        "id": "dolSk9eddh8H"
      },
      "source": [
        "features = joblib.load('/content/drive/MyDrive/HARModels/new_features.pickle')"
      ],
      "execution_count": 14,
      "outputs": []
    },
    {
      "cell_type": "code",
      "metadata": {
        "colab": {
          "base_uri": "https://localhost:8080/"
        },
        "id": "iARGVZGbdh5d",
        "outputId": "9d87f709-2a1a-4293-99a3-c73d0b723ea7"
      },
      "source": [
        "features"
      ],
      "execution_count": 15,
      "outputs": [
        {
          "output_type": "execute_result",
          "data": {
            "text/plain": [
              "array([[[[0.10588235, 0.08627451, 0.09019608],\n",
              "         [0.14509804, 0.1254902 , 0.12941176],\n",
              "         [0.05490196, 0.03529412, 0.03921569],\n",
              "         ...,\n",
              "         [0.07058824, 0.03529412, 0.05098039],\n",
              "         [0.07058824, 0.03529412, 0.05098039],\n",
              "         [0.07058824, 0.03529412, 0.05098039]],\n",
              "\n",
              "        [[0.0745098 , 0.05490196, 0.05882353],\n",
              "         [0.12156863, 0.10196078, 0.10588235],\n",
              "         [0.09411765, 0.0745098 , 0.07843137],\n",
              "         ...,\n",
              "         [0.14901961, 0.11372549, 0.12941176],\n",
              "         [0.14901961, 0.11372549, 0.12941176],\n",
              "         [0.14901961, 0.11372549, 0.12941176]],\n",
              "\n",
              "        [[0.0627451 , 0.04313725, 0.04705882],\n",
              "         [0.0627451 , 0.04313725, 0.04705882],\n",
              "         [0.09019608, 0.07058824, 0.0745098 ],\n",
              "         ...,\n",
              "         [0.09803922, 0.0627451 , 0.07843137],\n",
              "         [0.09803922, 0.0627451 , 0.07843137],\n",
              "         [0.09803922, 0.0627451 , 0.07843137]],\n",
              "\n",
              "        ...,\n",
              "\n",
              "        [[0.19215686, 0.21960784, 0.24313725],\n",
              "         [0.19215686, 0.21568627, 0.25098039],\n",
              "         [0.21960784, 0.23921569, 0.28235294],\n",
              "         ...,\n",
              "         [0.11764706, 0.15294118, 0.15686275],\n",
              "         [0.11764706, 0.15294118, 0.15686275],\n",
              "         [0.11764706, 0.15294118, 0.15686275]],\n",
              "\n",
              "        [[0.21960784, 0.24705882, 0.27058824],\n",
              "         [0.21960784, 0.24313725, 0.27843137],\n",
              "         [0.25098039, 0.27058824, 0.31372549],\n",
              "         ...,\n",
              "         [0.09019608, 0.1254902 , 0.12941176],\n",
              "         [0.09019608, 0.1254902 , 0.12941176],\n",
              "         [0.08627451, 0.12156863, 0.1254902 ]],\n",
              "\n",
              "        [[0.08235294, 0.10588235, 0.12941176],\n",
              "         [0.08235294, 0.10588235, 0.1372549 ],\n",
              "         [0.08627451, 0.10588235, 0.14901961],\n",
              "         ...,\n",
              "         [0.05098039, 0.08627451, 0.09019608],\n",
              "         [0.03529412, 0.06666667, 0.0745098 ],\n",
              "         [0.01960784, 0.05490196, 0.05882353]]],\n",
              "\n",
              "\n",
              "       [[[1.        , 1.        , 1.        ],\n",
              "         [1.        , 1.        , 1.        ],\n",
              "         [1.        , 1.        , 1.        ],\n",
              "         ...,\n",
              "         [0.42352941, 0.46666667, 0.5254902 ],\n",
              "         [0.97647059, 1.        , 1.        ],\n",
              "         [1.        , 1.        , 1.        ]],\n",
              "\n",
              "        [[1.        , 1.        , 1.        ],\n",
              "         [1.        , 1.        , 1.        ],\n",
              "         [1.        , 1.        , 1.        ],\n",
              "         ...,\n",
              "         [0.51764706, 0.56078431, 0.61960784],\n",
              "         [0.99607843, 1.        , 1.        ],\n",
              "         [0.92156863, 0.96470588, 0.99607843]],\n",
              "\n",
              "        [[1.        , 1.        , 1.        ],\n",
              "         [1.        , 1.        , 1.        ],\n",
              "         [1.        , 1.        , 1.        ],\n",
              "         ...,\n",
              "         [0.36862745, 0.41176471, 0.47058824],\n",
              "         [0.93333333, 0.97254902, 1.        ],\n",
              "         [0.89411765, 0.9372549 , 0.99215686]],\n",
              "\n",
              "        ...,\n",
              "\n",
              "        [[0.69803922, 0.67843137, 0.6745098 ],\n",
              "         [0.69803922, 0.67843137, 0.6745098 ],\n",
              "         [0.70588235, 0.68627451, 0.68235294],\n",
              "         ...,\n",
              "         [0.72941176, 0.69411765, 0.68235294],\n",
              "         [0.7372549 , 0.70196078, 0.69019608],\n",
              "         [0.7372549 , 0.70196078, 0.69019608]],\n",
              "\n",
              "        [[0.70196078, 0.68235294, 0.67843137],\n",
              "         [0.70196078, 0.68235294, 0.67843137],\n",
              "         [0.71372549, 0.69411765, 0.69019608],\n",
              "         ...,\n",
              "         [0.72941176, 0.69411765, 0.68235294],\n",
              "         [0.72941176, 0.69411765, 0.68235294],\n",
              "         [0.72941176, 0.69411765, 0.68235294]],\n",
              "\n",
              "        [[0.75686275, 0.7254902 , 0.71372549],\n",
              "         [0.75686275, 0.7254902 , 0.71372549],\n",
              "         [0.73333333, 0.70196078, 0.69019608],\n",
              "         ...,\n",
              "         [0.72941176, 0.69411765, 0.68235294],\n",
              "         [0.72941176, 0.69411765, 0.68235294],\n",
              "         [0.72941176, 0.69411765, 0.68235294]]],\n",
              "\n",
              "\n",
              "       [[[0.        , 0.        , 0.        ],\n",
              "         [0.        , 0.        , 0.        ],\n",
              "         [0.        , 0.        , 0.        ],\n",
              "         ...,\n",
              "         [0.        , 0.        , 0.        ],\n",
              "         [0.        , 0.        , 0.        ],\n",
              "         [0.        , 0.        , 0.        ]],\n",
              "\n",
              "        [[0.        , 0.        , 0.        ],\n",
              "         [0.        , 0.        , 0.        ],\n",
              "         [0.        , 0.        , 0.        ],\n",
              "         ...,\n",
              "         [0.        , 0.        , 0.        ],\n",
              "         [0.        , 0.        , 0.        ],\n",
              "         [0.        , 0.        , 0.        ]],\n",
              "\n",
              "        [[0.7254902 , 0.78039216, 0.8       ],\n",
              "         [0.7254902 , 0.78039216, 0.8       ],\n",
              "         [0.75686275, 0.81176471, 0.83137255],\n",
              "         ...,\n",
              "         [0.66666667, 0.71372549, 0.75294118],\n",
              "         [0.70196078, 0.74901961, 0.78823529],\n",
              "         [0.75294118, 0.8       , 0.83921569]],\n",
              "\n",
              "        ...,\n",
              "\n",
              "        [[0.5372549 , 0.60392157, 0.61960784],\n",
              "         [0.58039216, 0.64705882, 0.6627451 ],\n",
              "         [0.60392157, 0.67058824, 0.68627451],\n",
              "         ...,\n",
              "         [0.19607843, 0.21176471, 0.21960784],\n",
              "         [0.54117647, 0.55686275, 0.56470588],\n",
              "         [0.65882353, 0.6745098 , 0.68235294]],\n",
              "\n",
              "        [[0.        , 0.        , 0.        ],\n",
              "         [0.        , 0.        , 0.        ],\n",
              "         [0.        , 0.        , 0.        ],\n",
              "         ...,\n",
              "         [0.        , 0.        , 0.        ],\n",
              "         [0.        , 0.        , 0.        ],\n",
              "         [0.        , 0.        , 0.        ]],\n",
              "\n",
              "        [[0.        , 0.        , 0.        ],\n",
              "         [0.        , 0.        , 0.        ],\n",
              "         [0.        , 0.        , 0.        ],\n",
              "         ...,\n",
              "         [0.        , 0.        , 0.        ],\n",
              "         [0.        , 0.        , 0.        ],\n",
              "         [0.        , 0.        , 0.        ]]],\n",
              "\n",
              "\n",
              "       ...,\n",
              "\n",
              "\n",
              "       [[[0.34117647, 0.21176471, 0.32941176],\n",
              "         [0.34509804, 0.21568627, 0.33333333],\n",
              "         [0.30588235, 0.18823529, 0.30588235],\n",
              "         ...,\n",
              "         [0.42352941, 0.44313725, 0.6745098 ],\n",
              "         [0.41176471, 0.43529412, 0.63137255],\n",
              "         [0.43921569, 0.47843137, 0.61960784]],\n",
              "\n",
              "        [[0.34901961, 0.22745098, 0.34509804],\n",
              "         [0.37647059, 0.25490196, 0.37254902],\n",
              "         [0.34117647, 0.22745098, 0.34509804],\n",
              "         ...,\n",
              "         [0.42352941, 0.44313725, 0.6745098 ],\n",
              "         [0.41176471, 0.43529412, 0.63137255],\n",
              "         [0.42352941, 0.4627451 , 0.60392157]],\n",
              "\n",
              "        [[0.42352941, 0.30980392, 0.42745098],\n",
              "         [0.41960784, 0.30588235, 0.42352941],\n",
              "         [0.30196078, 0.2       , 0.31372549],\n",
              "         ...,\n",
              "         [0.40392157, 0.42352941, 0.65490196],\n",
              "         [0.38823529, 0.41176471, 0.60784314],\n",
              "         [0.38431373, 0.42352941, 0.56470588]],\n",
              "\n",
              "        ...,\n",
              "\n",
              "        [[0.96862745, 0.56470588, 0.59607843],\n",
              "         [0.98039216, 0.56862745, 0.6       ],\n",
              "         [1.        , 0.54901961, 0.60784314],\n",
              "         ...,\n",
              "         [0.19607843, 0.17647059, 0.18039216],\n",
              "         [0.19607843, 0.17647059, 0.18039216],\n",
              "         [0.19607843, 0.17647059, 0.18039216]],\n",
              "\n",
              "        [[0.99607843, 0.62352941, 0.58431373],\n",
              "         [1.        , 0.63529412, 0.59607843],\n",
              "         [1.        , 0.62745098, 0.62352941],\n",
              "         ...,\n",
              "         [0.19607843, 0.17647059, 0.18039216],\n",
              "         [0.2       , 0.18039216, 0.18431373],\n",
              "         [0.19215686, 0.17254902, 0.17647059]],\n",
              "\n",
              "        [[0.99607843, 0.61568627, 0.55686275],\n",
              "         [0.98039216, 0.58039216, 0.5254902 ],\n",
              "         [0.98823529, 0.58431373, 0.56862745],\n",
              "         ...,\n",
              "         [0.17254902, 0.15686275, 0.15686275],\n",
              "         [0.17254902, 0.16470588, 0.15686275],\n",
              "         [0.16470588, 0.15294118, 0.14901961]]],\n",
              "\n",
              "\n",
              "       [[[0.        , 0.        , 0.        ],\n",
              "         [0.        , 0.        , 0.        ],\n",
              "         [0.        , 0.        , 0.        ],\n",
              "         ...,\n",
              "         [0.        , 0.        , 0.        ],\n",
              "         [0.        , 0.        , 0.        ],\n",
              "         [0.        , 0.        , 0.        ]],\n",
              "\n",
              "        [[0.        , 0.        , 0.        ],\n",
              "         [0.        , 0.        , 0.        ],\n",
              "         [0.        , 0.        , 0.        ],\n",
              "         ...,\n",
              "         [0.        , 0.        , 0.        ],\n",
              "         [0.        , 0.        , 0.        ],\n",
              "         [0.        , 0.        , 0.        ]],\n",
              "\n",
              "        [[0.        , 0.        , 0.        ],\n",
              "         [0.        , 0.        , 0.        ],\n",
              "         [0.        , 0.        , 0.        ],\n",
              "         ...,\n",
              "         [0.        , 0.        , 0.        ],\n",
              "         [0.        , 0.        , 0.        ],\n",
              "         [0.        , 0.        , 0.        ]],\n",
              "\n",
              "        ...,\n",
              "\n",
              "        [[0.        , 0.        , 0.        ],\n",
              "         [0.        , 0.        , 0.        ],\n",
              "         [0.        , 0.        , 0.        ],\n",
              "         ...,\n",
              "         [0.        , 0.        , 0.        ],\n",
              "         [0.        , 0.        , 0.        ],\n",
              "         [0.        , 0.        , 0.        ]],\n",
              "\n",
              "        [[0.        , 0.        , 0.        ],\n",
              "         [0.        , 0.        , 0.        ],\n",
              "         [0.        , 0.        , 0.        ],\n",
              "         ...,\n",
              "         [0.        , 0.        , 0.        ],\n",
              "         [0.        , 0.        , 0.        ],\n",
              "         [0.        , 0.        , 0.        ]],\n",
              "\n",
              "        [[0.        , 0.        , 0.        ],\n",
              "         [0.        , 0.        , 0.        ],\n",
              "         [0.        , 0.        , 0.        ],\n",
              "         ...,\n",
              "         [0.        , 0.        , 0.        ],\n",
              "         [0.        , 0.        , 0.        ],\n",
              "         [0.        , 0.        , 0.        ]]],\n",
              "\n",
              "\n",
              "       [[[0.        , 0.        , 0.        ],\n",
              "         [0.        , 0.        , 0.        ],\n",
              "         [0.        , 0.        , 0.        ],\n",
              "         ...,\n",
              "         [0.        , 0.        , 0.        ],\n",
              "         [0.        , 0.        , 0.        ],\n",
              "         [0.        , 0.        , 0.        ]],\n",
              "\n",
              "        [[0.        , 0.        , 0.        ],\n",
              "         [0.        , 0.        , 0.        ],\n",
              "         [0.        , 0.        , 0.        ],\n",
              "         ...,\n",
              "         [0.        , 0.        , 0.        ],\n",
              "         [0.        , 0.        , 0.        ],\n",
              "         [0.        , 0.        , 0.        ]],\n",
              "\n",
              "        [[0.        , 0.        , 0.        ],\n",
              "         [0.        , 0.        , 0.        ],\n",
              "         [0.        , 0.        , 0.        ],\n",
              "         ...,\n",
              "         [0.        , 0.        , 0.        ],\n",
              "         [0.        , 0.        , 0.        ],\n",
              "         [0.        , 0.        , 0.        ]],\n",
              "\n",
              "        ...,\n",
              "\n",
              "        [[0.        , 0.        , 0.        ],\n",
              "         [0.        , 0.        , 0.        ],\n",
              "         [0.        , 0.        , 0.        ],\n",
              "         ...,\n",
              "         [0.        , 0.        , 0.        ],\n",
              "         [0.        , 0.        , 0.        ],\n",
              "         [0.        , 0.        , 0.        ]],\n",
              "\n",
              "        [[0.        , 0.        , 0.        ],\n",
              "         [0.        , 0.        , 0.        ],\n",
              "         [0.        , 0.        , 0.        ],\n",
              "         ...,\n",
              "         [0.        , 0.        , 0.        ],\n",
              "         [0.        , 0.        , 0.        ],\n",
              "         [0.        , 0.        , 0.        ]],\n",
              "\n",
              "        [[0.        , 0.        , 0.        ],\n",
              "         [0.        , 0.        , 0.        ],\n",
              "         [0.        , 0.        , 0.        ],\n",
              "         ...,\n",
              "         [0.        , 0.        , 0.        ],\n",
              "         [0.        , 0.        , 0.        ],\n",
              "         [0.        , 0.        , 0.        ]]]])"
            ]
          },
          "metadata": {
            "tags": []
          },
          "execution_count": 15
        }
      ]
    },
    {
      "cell_type": "code",
      "metadata": {
        "id": "C8rxe_d4dh3T"
      },
      "source": [
        "labels = joblib.load('/content/drive/MyDrive/HARModels/new_labels.pickle')"
      ],
      "execution_count": 17,
      "outputs": []
    },
    {
      "cell_type": "code",
      "metadata": {
        "colab": {
          "base_uri": "https://localhost:8080/"
        },
        "id": "roaE9WSIdh1M",
        "outputId": "9a1e429e-6150-46c7-b835-45027dbf7942"
      },
      "source": [
        "labels"
      ],
      "execution_count": 18,
      "outputs": [
        {
          "output_type": "execute_result",
          "data": {
            "text/plain": [
              "array([0, 0, 0, ..., 5, 5, 5])"
            ]
          },
          "metadata": {
            "tags": []
          },
          "execution_count": 18
        }
      ]
    },
    {
      "cell_type": "code",
      "metadata": {
        "id": "lPApkxkPdhxC"
      },
      "source": [
        "one_hot_encoded_labels = to_categorical(labels)"
      ],
      "execution_count": 19,
      "outputs": []
    },
    {
      "cell_type": "code",
      "metadata": {
        "id": "-n7NEMIsdhvo"
      },
      "source": [
        "seed_constant = 23\n",
        "\n",
        "np.random.seed(seed_constant)\n",
        "\n",
        "random.seed(seed_constant)\n",
        "\n",
        "tf.random.set_seed(seed_constant)\n"
      ],
      "execution_count": 20,
      "outputs": []
    },
    {
      "cell_type": "code",
      "metadata": {
        "id": "Zb59VD-Gdhtr"
      },
      "source": [
        "features_train, features_test, labels_train, labels_test = train_test_split(features, one_hot_encoded_labels, test_size = 0.2, shuffle = True, random_state = seed_constant)"
      ],
      "execution_count": 21,
      "outputs": []
    },
    {
      "cell_type": "code",
      "metadata": {
        "colab": {
          "base_uri": "https://localhost:8080/"
        },
        "id": "7rUh-h2XdhrQ",
        "outputId": "d85fa934-db88-4a48-e849-3c0c520deafc"
      },
      "source": [
        "def create_model():\n",
        "\n",
        "   # We will use a Sequential model for model construction\n",
        "    model = Sequential()\n",
        "    model.add(Conv3D(32, kernel_size=(3, 3, 3), activation='relu', kernel_initializer='he_uniform', input_shape=(64,64,64,3)))\n",
        "    model.add(MaxPooling3D(pool_size=(2, 2, 2)))\n",
        "    model.add(BatchNormalization(center=True, scale=True))\n",
        "    model.add(Dropout(0.5))\n",
        "    model.add(Conv3D(64, kernel_size=(3, 3, 3), activation='relu', kernel_initializer='he_uniform'))\n",
        "    model.add(MaxPooling3D(pool_size=(2, 2, 2)))\n",
        "    model.add(BatchNormalization(center=True, scale=True))\n",
        "    model.add(Dropout(0.5))\n",
        "    model.add(Flatten())\n",
        "    model.add(Dense(256, activation='relu', kernel_initializer='he_uniform'))\n",
        "    model.add(Dense(256, activation='relu', kernel_initializer='he_uniform'))\n",
        "    model.add(Dense(10, activation='softmax'))  \n",
        "\n",
        "    # Printing the models summary\n",
        "\n",
        "    model.summary()\n",
        "\n",
        "    return model\n",
        "# Calling the create_model method\n",
        "model = create_model()\n",
        "print(\"Model created successfully\")"
      ],
      "execution_count": 60,
      "outputs": [
        {
          "output_type": "stream",
          "text": [
            "Model: \"sequential_2\"\n",
            "_________________________________________________________________\n",
            "Layer (type)                 Output Shape              Param #   \n",
            "=================================================================\n",
            "conv3d (Conv3D)              (None, 62, 62, 62, 32)    2624      \n",
            "_________________________________________________________________\n",
            "max_pooling3d (MaxPooling3D) (None, 31, 31, 31, 32)    0         \n",
            "_________________________________________________________________\n",
            "batch_normalization_2 (Batch (None, 31, 31, 31, 32)    128       \n",
            "_________________________________________________________________\n",
            "dropout (Dropout)            (None, 31, 31, 31, 32)    0         \n",
            "_________________________________________________________________\n",
            "conv3d_1 (Conv3D)            (None, 29, 29, 29, 64)    55360     \n",
            "_________________________________________________________________\n",
            "max_pooling3d_1 (MaxPooling3 (None, 14, 14, 14, 64)    0         \n",
            "_________________________________________________________________\n",
            "batch_normalization_3 (Batch (None, 14, 14, 14, 64)    256       \n",
            "_________________________________________________________________\n",
            "dropout_1 (Dropout)          (None, 14, 14, 14, 64)    0         \n",
            "_________________________________________________________________\n",
            "flatten (Flatten)            (None, 175616)            0         \n",
            "_________________________________________________________________\n",
            "dense_2 (Dense)              (None, 256)               44957952  \n",
            "_________________________________________________________________\n",
            "dense_3 (Dense)              (None, 256)               65792     \n",
            "_________________________________________________________________\n",
            "dense_4 (Dense)              (None, 10)                2570      \n",
            "=================================================================\n",
            "Total params: 45,084,682\n",
            "Trainable params: 45,084,490\n",
            "Non-trainable params: 192\n",
            "_________________________________________________________________\n",
            "Model created successfully\n"
          ],
          "name": "stdout"
        }
      ]
    },
    {
      "cell_type": "code",
      "metadata": {
        "colab": {
          "base_uri": "https://localhost:8080/",
          "height": 1000
        },
        "id": "nobZJaWR7zNl",
        "outputId": "5bf77ea0-591c-4e8c-af60-450249696864"
      },
      "source": [
        "\tplot_model(model, to_file = 'model_structure_plot.png', show_shapes = True, show_layer_names = True)"
      ],
      "execution_count": 61,
      "outputs": [
        {
          "output_type": "execute_result",
          "data": {
            "image/png": "[encoded data removed]",
            "text/plain": [
              "<IPython.core.display.Image object>"
            ]
          },
          "metadata": {
            "tags": []
          },
          "execution_count": 61
        }
      ]
    },
    {
      "cell_type": "code",
      "metadata": {
        "colab": {
          "base_uri": "https://localhost:8080/"
        },
        "id": "vE_0GZyyew20",
        "outputId": "18434d22-3407-4be9-8a04-95ba219e62d8"
      },
      "source": [
        "early_stopping_callback = EarlyStopping(monitor = 'val_loss', patience = 15, mode = 'min', restore_best_weights = True, verbose = 1)\n",
        "\n",
        "checkpoint = tf.keras.callbacks.ModelCheckpoint('/content/drive/MyDrive/HAR/har_new.h5', monitor = 'val_loss', verbose = 1, save_best_only = True,\n",
        "                                                mode = 'min')\n",
        "\n",
        "model.compile(loss = 'categorical_crossentropy', optimizer = 'Adam', metrics = [\"accuracy\"])\n",
        "\n",
        "model_training_history = model.fit(x = features_train, y = labels_train, epochs = 20, batch_size = 32 , shuffle = True, validation_split = 0.2, callbacks = [early_stopping_callback, checkpoint])"
      ],
      "execution_count": 23,
      "outputs": [
        {
          "output_type": "stream",
          "text": [
            "Epoch 1/20\n",
            "240/240 [==============================] - 211s 874ms/step - loss: 0.8870 - accuracy: 0.6918 - val_loss: 1.6236 - val_accuracy: 0.3177\n",
            "\n",
            "Epoch 00001: val_loss improved from inf to 1.62357, saving model to /content/drive/MyDrive/HAR/har_new.h5\n",
            "Epoch 2/20\n",
            "240/240 [==============================] - 210s 873ms/step - loss: 0.4425 - accuracy: 0.8523 - val_loss: 0.8508 - val_accuracy: 0.6870\n",
            "\n",
            "Epoch 00002: val_loss improved from 1.62357 to 0.85077, saving model to /content/drive/MyDrive/HAR/har_new.h5\n",
            "Epoch 3/20\n",
            "240/240 [==============================] - 212s 885ms/step - loss: 0.2489 - accuracy: 0.9220 - val_loss: 0.5930 - val_accuracy: 0.7964\n",
            "\n",
            "Epoch 00003: val_loss improved from 0.85077 to 0.59298, saving model to /content/drive/MyDrive/HAR/har_new.h5\n",
            "Epoch 4/20\n",
            "240/240 [==============================] - 210s 876ms/step - loss: 0.1550 - accuracy: 0.9520 - val_loss: 0.2974 - val_accuracy: 0.8995\n",
            "\n",
            "Epoch 00004: val_loss improved from 0.59298 to 0.29737, saving model to /content/drive/MyDrive/HAR/har_new.h5\n",
            "Epoch 5/20\n",
            "240/240 [==============================] - 211s 879ms/step - loss: 0.1332 - accuracy: 0.9572 - val_loss: 0.1369 - val_accuracy: 0.9484\n",
            "\n",
            "Epoch 00005: val_loss improved from 0.29737 to 0.13691, saving model to /content/drive/MyDrive/HAR/har_new.h5\n",
            "Epoch 6/20\n",
            "240/240 [==============================] - 214s 893ms/step - loss: 0.1122 - accuracy: 0.9672 - val_loss: 1.3179 - val_accuracy: 0.6578\n",
            "\n",
            "Epoch 00006: val_loss did not improve from 0.13691\n",
            "Epoch 7/20\n",
            "240/240 [==============================] - 211s 881ms/step - loss: 0.0778 - accuracy: 0.9771 - val_loss: 0.1959 - val_accuracy: 0.9307\n",
            "\n",
            "Epoch 00007: val_loss did not improve from 0.13691\n",
            "Epoch 8/20\n",
            "240/240 [==============================] - 213s 889ms/step - loss: 0.0803 - accuracy: 0.9768 - val_loss: 0.7457 - val_accuracy: 0.7911\n",
            "\n",
            "Epoch 00008: val_loss did not improve from 0.13691\n",
            "Epoch 9/20\n",
            "240/240 [==============================] - 213s 888ms/step - loss: 0.0754 - accuracy: 0.9754 - val_loss: 0.1235 - val_accuracy: 0.9521\n",
            "\n",
            "Epoch 00009: val_loss improved from 0.13691 to 0.12351, saving model to /content/drive/MyDrive/HAR/har_new.h5\n",
            "Epoch 10/20\n",
            "240/240 [==============================] - 210s 877ms/step - loss: 0.0478 - accuracy: 0.9874 - val_loss: 0.0955 - val_accuracy: 0.9708\n",
            "\n",
            "Epoch 00010: val_loss improved from 0.12351 to 0.09551, saving model to /content/drive/MyDrive/HAR/har_new.h5\n",
            "Epoch 11/20\n",
            "240/240 [==============================] - 210s 874ms/step - loss: 0.0536 - accuracy: 0.9820 - val_loss: 0.2317 - val_accuracy: 0.9266\n",
            "\n",
            "Epoch 00011: val_loss did not improve from 0.09551\n",
            "Epoch 12/20\n",
            "240/240 [==============================] - 210s 873ms/step - loss: 0.0479 - accuracy: 0.9858 - val_loss: 0.1710 - val_accuracy: 0.9464\n",
            "\n",
            "Epoch 00012: val_loss did not improve from 0.09551\n",
            "Epoch 13/20\n",
            "240/240 [==============================] - 209s 872ms/step - loss: 0.0416 - accuracy: 0.9880 - val_loss: 0.1323 - val_accuracy: 0.9552\n",
            "\n",
            "Epoch 00013: val_loss did not improve from 0.09551\n",
            "Epoch 14/20\n",
            "240/240 [==============================] - 209s 869ms/step - loss: 0.0361 - accuracy: 0.9895 - val_loss: 0.8360 - val_accuracy: 0.8156\n",
            "\n",
            "Epoch 00014: val_loss did not improve from 0.09551\n",
            "Epoch 15/20\n",
            "240/240 [==============================] - 209s 873ms/step - loss: 0.0478 - accuracy: 0.9849 - val_loss: 0.3464 - val_accuracy: 0.8536\n",
            "\n",
            "Epoch 00015: val_loss did not improve from 0.09551\n",
            "Epoch 16/20\n",
            "240/240 [==============================] - 208s 868ms/step - loss: 0.0318 - accuracy: 0.9902 - val_loss: 0.3027 - val_accuracy: 0.9016\n",
            "\n",
            "Epoch 00016: val_loss did not improve from 0.09551\n",
            "Epoch 17/20\n",
            "240/240 [==============================] - 209s 869ms/step - loss: 0.0329 - accuracy: 0.9889 - val_loss: 0.2127 - val_accuracy: 0.9349\n",
            "\n",
            "Epoch 00017: val_loss did not improve from 0.09551\n",
            "Epoch 18/20\n",
            "240/240 [==============================] - 209s 869ms/step - loss: 0.0308 - accuracy: 0.9910 - val_loss: 0.2285 - val_accuracy: 0.9161\n",
            "\n",
            "Epoch 00018: val_loss did not improve from 0.09551\n",
            "Epoch 19/20\n",
            "240/240 [==============================] - 208s 867ms/step - loss: 0.0360 - accuracy: 0.9888 - val_loss: 0.2208 - val_accuracy: 0.9255\n",
            "\n",
            "Epoch 00019: val_loss did not improve from 0.09551\n",
            "Epoch 20/20\n",
            "240/240 [==============================] - 208s 867ms/step - loss: 0.0202 - accuracy: 0.9940 - val_loss: 0.1828 - val_accuracy: 0.9448\n",
            "\n",
            "Epoch 00020: val_loss did not improve from 0.09551\n"
          ],
          "name": "stdout"
        }
      ]
    },
    {
      "cell_type": "code",
      "metadata": {
        "id": "XmQhT9iJ7_Yg"
      },
      "source": [
        "def plot_metric(metric_name_1, metric_name_2, plot_name):\n",
        "\n",
        "  # Get Metric values using metric names as identifiers\n",
        "  metric_value_1 = model_training_history.history[metric_name_1]\n",
        "  metric_value_2 = model_training_history.history[metric_name_2]\n",
        "  # Constructing a range object which will be used as time\n",
        "\n",
        "  epochs = range(len(metric_value_1))\n",
        "  # Plotting the Graph\n",
        "  plt.plot(epochs, metric_value_1, 'blue', label = metric_name_1)\n",
        "  plt.plot(epochs, metric_value_2, 'red', label = metric_name_2)\n",
        "  # Adding title to the plot\n",
        "  plt.title(str(plot_name))\n",
        "  # Adding legend to the plot\n",
        "  plt.legend()"
      ],
      "execution_count": 62,
      "outputs": []
    },
    {
      "cell_type": "code",
      "metadata": {
        "colab": {
          "base_uri": "https://localhost:8080/",
          "height": 281
        },
        "id": "Xcq3UYuv8ArK",
        "outputId": "dbc15a45-3ff7-4973-92a6-a640a1076680"
      },
      "source": [
        "plot_metric('loss', 'val_loss', 'Total Loss vs Total Validation Loss')"
      ],
      "execution_count": 63,
      "outputs": [
        {
          "output_type": "display_data",
          "data": {
            "image/png": "[encoded data removed]",
            "text/plain": [
              "<Figure size 432x288 with 1 Axes>"
            ]
          },
          "metadata": {
            "tags": [],
            "needs_background": "light"
          }
        }
      ]
    },
    {
      "cell_type": "code",
      "metadata": {
        "colab": {
          "base_uri": "https://localhost:8080/",
          "height": 281
        },
        "id": "sTC3RHN78GFm",
        "outputId": "cd836109-5890-4fc2-d750-cff20fa1676f"
      },
      "source": [
        "plot_metric('accuracy', 'val_accuracy', 'Total Accuracy vs Total Validation Accuracy')"
      ],
      "execution_count": 64,
      "outputs": [
        {
          "output_type": "display_data",
          "data": {
            "image/png": "[encoded data removed]",
            "text/plain": [
              "<Figure size 432x288 with 1 Axes>"
            ]
          },
          "metadata": {
            "tags": [],
            "needs_background": "light"
          }
        }
      ]
    },
    {
      "cell_type": "code",
      "metadata": {
        "colab": {
          "base_uri": "https://localhost:8080/"
        },
        "id": "kcJMXSJsdhgw",
        "outputId": "b8e27280-21ed-49c4-dada-c59c5d822ca2"
      },
      "source": [
        "model_evaluation_history = model.evaluate(features_test, labels_test)\n"
      ],
      "execution_count": 24,
      "outputs": [
        {
          "output_type": "stream",
          "text": [
            "75/75 [==============================] - 15s 198ms/step - loss: 0.1723 - accuracy: 0.9533\n"
          ],
          "name": "stdout"
        }
      ]
    },
    {
      "cell_type": "code",
      "metadata": {
        "id": "zWMMFshlu2hq"
      },
      "source": [
        "model.save('/content/drive/MyDrive/HAR/har_new.h5')\n"
      ],
      "execution_count": 25,
      "outputs": []
    },
    {
      "cell_type": "code",
      "metadata": {
        "id": "Qolcm4kmvfFl"
      },
      "source": [
        "loaded_model = tf.keras.models.load_model('/content/drive/MyDrive/HAR/har_new.h5')"
      ],
      "execution_count": 27,
      "outputs": []
    },
    {
      "cell_type": "code",
      "metadata": {
        "id": "A-_DUw6tvsao"
      },
      "source": [
        "labels_pred = loaded_model.predict(features_test)"
      ],
      "execution_count": 29,
      "outputs": []
    },
    {
      "cell_type": "code",
      "metadata": {
        "colab": {
          "base_uri": "https://localhost:8080/"
        },
        "id": "C06-f-G5wkUO",
        "outputId": "930e9d1d-7944-4a21-f80c-3945d2f1fd16"
      },
      "source": [
        "features_test"
      ],
      "execution_count": 32,
      "outputs": [
        {
          "output_type": "execute_result",
          "data": {
            "text/plain": [
              "array([[6.8396249e-09, 2.0181765e-06, 3.1774978e-11, 9.9859756e-01,\n",
              "        1.3989024e-03, 1.5858595e-06],\n",
              "       [2.7494303e-07, 1.2171749e-03, 2.7278216e-10, 9.9861896e-01,\n",
              "        3.6869028e-09, 1.6361977e-04],\n",
              "       [1.1124465e-05, 1.3070870e-02, 1.9030020e-07, 9.6302883e-06,\n",
              "        2.5781894e-03, 9.8433000e-01],\n",
              "       ...,\n",
              "       [2.1685970e-08, 1.9721128e-07, 8.9311891e-10, 9.9963236e-01,\n",
              "        3.6687142e-04, 4.4976110e-07],\n",
              "       [5.9929234e-04, 1.7991107e-02, 1.1227862e-02, 9.6701795e-01,\n",
              "        1.2346350e-03, 1.9292232e-03],\n",
              "       [9.1314281e-09, 1.3724544e-07, 4.1302620e-10, 9.9994612e-01,\n",
              "        5.3804528e-05, 7.7624607e-10]], dtype=float32)"
            ]
          },
          "metadata": {
            "tags": []
          },
          "execution_count": 32
        }
      ]
    },
    {
      "cell_type": "code",
      "metadata": {
        "colab": {
          "base_uri": "https://localhost:8080/"
        },
        "id": "wX4f0_XzyZ6p",
        "outputId": "98b7f6bc-f590-48b4-a9d4-a99bf8fbd47c"
      },
      "source": [
        "type(np.array(np.unique(features_test)))"
      ],
      "execution_count": 42,
      "outputs": [
        {
          "output_type": "execute_result",
          "data": {
            "text/plain": [
              "numpy.ndarray"
            ]
          },
          "metadata": {
            "tags": []
          },
          "execution_count": 42
        }
      ]
    },
    {
      "cell_type": "code",
      "metadata": {
        "colab": {
          "base_uri": "https://localhost:8080/"
        },
        "id": "arpUowcwyz_U",
        "outputId": "82da07cf-cc04-4184-fca3-6d02c8c6050c"
      },
      "source": [
        "type(np.array(np.unique(labels_pred)))"
      ],
      "execution_count": 43,
      "outputs": [
        {
          "output_type": "execute_result",
          "data": {
            "text/plain": [
              "numpy.ndarray"
            ]
          },
          "metadata": {
            "tags": []
          },
          "execution_count": 43
        }
      ]
    },
    {
      "cell_type": "code",
      "metadata": {
        "id": "jzBA0zxXzBQu"
      },
      "source": [
        "labels_pred = np.argmax(labels_pred,axis=1)"
      ],
      "execution_count": 44,
      "outputs": []
    },
    {
      "cell_type": "code",
      "metadata": {
        "colab": {
          "base_uri": "https://localhost:8080/"
        },
        "id": "ux7YCMPOzHcU",
        "outputId": "124c6245-f51d-4dc9-8897-09d7a28fa3b8"
      },
      "source": [
        "labels_pred[0]"
      ],
      "execution_count": 46,
      "outputs": [
        {
          "output_type": "execute_result",
          "data": {
            "text/plain": [
              "3"
            ]
          },
          "metadata": {
            "tags": []
          },
          "execution_count": 46
        }
      ]
    },
    {
      "cell_type": "code",
      "metadata": {
        "id": "du65hnh9zKqe"
      },
      "source": [
        "labels_test = np.argmax(labels_test,axis=1)"
      ],
      "execution_count": 51,
      "outputs": []
    },
    {
      "cell_type": "code",
      "metadata": {
        "colab": {
          "base_uri": "https://localhost:8080/"
        },
        "id": "GS2v9cV6zQjJ",
        "outputId": "8d8c1d98-5703-479f-9913-c9a1dbf9ec1f"
      },
      "source": [
        "labels_test[0]"
      ],
      "execution_count": 52,
      "outputs": [
        {
          "output_type": "execute_result",
          "data": {
            "text/plain": [
              "3"
            ]
          },
          "metadata": {
            "tags": []
          },
          "execution_count": 52
        }
      ]
    },
    {
      "cell_type": "code",
      "metadata": {
        "id": "tpZjOmjuzjEI"
      },
      "source": [
        "from sklearn.metrics import confusion_matrix\n",
        "confusion = confusion_matrix(labels_test, labels_pred)"
      ],
      "execution_count": 54,
      "outputs": []
    },
    {
      "cell_type": "code",
      "metadata": {
        "colab": {
          "base_uri": "https://localhost:8080/"
        },
        "id": "pmtzPj1_ztyu",
        "outputId": "14cbafe7-97b3-404b-b372-c7556a575bb0"
      },
      "source": [
        "confusion"
      ],
      "execution_count": 55,
      "outputs": [
        {
          "output_type": "execute_result",
          "data": {
            "text/plain": [
              "array([[414,   4,   0,   1,   1,   1],\n",
              "       [  1, 400,   0,   0,   0,   0],\n",
              "       [ 12,   1, 285,  63,   1,  10],\n",
              "       [  3,   0,   0, 401,   0,   2],\n",
              "       [  0,   0,   0,   0, 385,   0],\n",
              "       [  1,   1,   0,   3,   7, 403]])"
            ]
          },
          "metadata": {
            "tags": []
          },
          "execution_count": 55
        }
      ]
    },
    {
      "cell_type": "code",
      "metadata": {
        "id": "2fOv6-EjcJzm"
      },
      "source": [
        "from google.colab import drive\n",
        "drive.mount('/content/drive')"
      ],
      "execution_count": null,
      "outputs": []
    },
    {
      "cell_type": "code",
      "metadata": {
        "colab": {
          "base_uri": "https://localhost:8080/"
        },
        "id": "Hw1n_m5UzzOe",
        "outputId": "b443d474-2f1c-4871-f8df-192cbd9f062d"
      },
      "source": [
        "from sklearn.metrics import classification_report\n",
        "print('\\nClassification Report\\n')\n",
        "print(classification_report(labels_test, labels_pred, target_names=['WalkingWithDog', 'HorseRace','JumpingJack','HulaHoop','YoYo','PizzaTossing']))"
      ],
      "execution_count": 57,
      "outputs": [
        {
          "output_type": "stream",
          "text": [
            "\n",
            "Classification Report\n",
            "\n",
            "                precision    recall  f1-score   support\n",
            "\n",
            "WalkingWithDog       0.96      0.98      0.97       421\n",
            "     HorseRace       0.99      1.00      0.99       401\n",
            "   JumpingJack       1.00      0.77      0.87       372\n",
            "      HulaHoop       0.86      0.99      0.92       406\n",
            "          YoYo       0.98      1.00      0.99       385\n",
            "  PizzaTossing       0.97      0.97      0.97       415\n",
            "\n",
            "      accuracy                           0.95      2400\n",
            "     macro avg       0.96      0.95      0.95      2400\n",
            "  weighted avg       0.96      0.95      0.95      2400\n",
            "\n"
          ],
          "name": "stdout"
        }
      ]
    },
    {
      "cell_type": "code",
      "metadata": {
        "colab": {
          "base_uri": "https://localhost:8080/"
        },
        "id": "k-WD1i0a0BDh",
        "outputId": "0b999757-8450-4b30-b983-c63ee0513c65"
      },
      "source": [
        "from sklearn.metrics import accuracy_score\n",
        "score = accuracy_score(labels_test, labels_pred)\n",
        "print(score*100)"
      ],
      "execution_count": 66,
      "outputs": [
        {
          "output_type": "stream",
          "text": [
            "95.33333333333334\n"
          ],
          "name": "stdout"
        }
      ]
    },
    {
      "cell_type": "code",
      "metadata": {
        "id": "T-BtqHxX-D7r"
      },
      "source": [
        ""
      ],
      "execution_count": null,
      "outputs": []
    }
  ]
}